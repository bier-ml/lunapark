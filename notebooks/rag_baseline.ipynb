{
 "cells": [
  {
   "cell_type": "code",
   "execution_count": 1,
   "metadata": {},
   "outputs": [],
   "source": [
    "import os\n",
    "\n",
    "from pyairtable import Api"
   ]
  },
  {
   "cell_type": "code",
   "execution_count": 2,
   "metadata": {},
   "outputs": [],
   "source": [
    "api = Api(os.environ[\"AIRTABLE_TOKEN\"])"
   ]
  },
  {
   "cell_type": "code",
   "execution_count": 3,
   "metadata": {},
   "outputs": [],
   "source": [
    "# from pyairtable.orm import Model, fields as F\n",
    "\n",
    "# class Candidate(Model):\n",
    "#     user_name = F.TextField(\"Кандидат\")\n",
    "#     job_name = F.TextField(\"Вакансия\")\n",
    "#     resume_text = F.TextField(\"Текст резюме Rollup (from Кандидат)\")\n",
    "#     class Meta:\n",
    "#             base_id = os.environ['AIRTABLE_BASE']\n",
    "#             table_name = os.environ['AIRTABLE_TABLE']\n",
    "#             api_key = os.environ['AIRTABLE_TOKEN']\n",
    "\n",
    "\n",
    "# class Job(Model):\n",
    "#     job_name = F.TextField(\"Вакансия\")\n",
    "#     job_description = F.TextField(\"Текст вакансии Rollup (from Вакансия)\")\n",
    "#     class Meta:\n",
    "#         base_id = os.environ['AIRTABLE_BASE']\n",
    "#         table_name = os.environ['AIRTABLE_TABLE']\n",
    "#         api_key = os.environ['AIRTABLE_TOKEN']"
   ]
  },
  {
   "cell_type": "code",
   "execution_count": 3,
   "metadata": {},
   "outputs": [],
   "source": [
    "t = api.table(os.environ[\"AIRTABLE_BASE\"], os.environ[\"AIRTABLE_TABLE\"])"
   ]
  },
  {
   "cell_type": "code",
   "execution_count": 4,
   "metadata": {},
   "outputs": [],
   "source": [
    "records = t.all()\n",
    "\n",
    "data = [record[\"fields\"] for record in records]"
   ]
  },
  {
   "cell_type": "code",
   "execution_count": 5,
   "metadata": {},
   "outputs": [],
   "source": [
    "import pandas as pd\n",
    "\n",
    "df = pd.DataFrame(data)"
   ]
  },
  {
   "cell_type": "code",
   "execution_count": 6,
   "metadata": {},
   "outputs": [
    {
     "data": {
      "text/html": [
       "<div>\n",
       "<style scoped>\n",
       "    .dataframe tbody tr th:only-of-type {\n",
       "        vertical-align: middle;\n",
       "    }\n",
       "\n",
       "    .dataframe tbody tr th {\n",
       "        vertical-align: top;\n",
       "    }\n",
       "\n",
       "    .dataframe thead th {\n",
       "        text-align: right;\n",
       "    }\n",
       "</style>\n",
       "<table border=\"1\" class=\"dataframe\">\n",
       "  <thead>\n",
       "    <tr style=\"text-align: right;\">\n",
       "      <th></th>\n",
       "      <th>Кандидат х Вакансия</th>\n",
       "      <th>Кандидат</th>\n",
       "      <th>Вакансия</th>\n",
       "      <th>Теги</th>\n",
       "      <th>Комментарий техконсультанта</th>\n",
       "      <th>Оценка (для проекта)</th>\n",
       "      <th>Статус</th>\n",
       "      <th>Финальный статус</th>\n",
       "      <th>CV</th>\n",
       "      <th>Текст резюме Rollup (from Кандидат)</th>\n",
       "      <th>Текст вакансии от компании (from Вакансия)</th>\n",
       "    </tr>\n",
       "  </thead>\n",
       "  <tbody>\n",
       "    <tr>\n",
       "      <th>0</th>\n",
       "      <td>🟧Гротов: HeyGen: Backend Engineer</td>\n",
       "      <td>Константин Гротов</td>\n",
       "      <td>HeyGen: Backend Engineer</td>\n",
       "      <td>[Python, Data Engineer]</td>\n",
       "      <td>4 Видно всё из основного списка кроме security...</td>\n",
       "      <td>4</td>\n",
       "      <td>F. Отказали мы</td>\n",
       "      <td>I.8. Показать клиенту</td>\n",
       "      <td>[{'id': 'attPTbDSaBmjmIDxw', 'url': 'https://v...</td>\n",
       "      <td>KONSTANTIN GROTOV\\nR konstantin.grotov@gmail.c...</td>\n",
       "      <td>**About HeyGen** HeyGen is a cutting-edge AI-p...</td>\n",
       "    </tr>\n",
       "    <tr>\n",
       "      <th>1</th>\n",
       "      <td>🟪Пономаренко: Discover Beagle: Data Scientist</td>\n",
       "      <td>Артем Пономаренко</td>\n",
       "      <td>Discover Beagle: Data Scientist</td>\n",
       "      <td>[Data Analyst, Data Scientist]</td>\n",
       "      <td>3 вроде делал что-то релевантное, но DS/аналитик</td>\n",
       "      <td>3</td>\n",
       "      <td>GG. Изменились требования в вакансии</td>\n",
       "      <td>I.4b. Оценили резюме (не рекомендуем)</td>\n",
       "      <td>[{'id': 'attMQRddPFX7glO3L', 'url': 'https://v...</td>\n",
       "      <td>ARTEM PONOMARENKO\\n# slfdstrctd@yandex.ru ð li...</td>\n",
       "      <td>About the job We are a seed-funded startup foc...</td>\n",
       "    </tr>\n",
       "    <tr>\n",
       "      <th>2</th>\n",
       "      <td>🔲Алешин: HeyGen: Fullstack Software Engineer</td>\n",
       "      <td>Андрей Алешин</td>\n",
       "      <td>HeyGen: Fullstack Software Engineer</td>\n",
       "      <td>[Fullstack, Frontend: JS / JavaScript, Fronten...</td>\n",
       "      <td>3 без cloud platforms и как-то без плюшек</td>\n",
       "      <td>3</td>\n",
       "      <td>I.4a. Оценили резюме (не рекомендуем)</td>\n",
       "      <td>I.4b. Оценили резюме (не рекомендуем)</td>\n",
       "      <td>NaN</td>\n",
       "      <td>Кандидат\\nМужчина, 53 года, родился 9 декабря ...</td>\n",
       "      <td>https://boards.greenhouse.io/heygen/jobs/41720...</td>\n",
       "    </tr>\n",
       "  </tbody>\n",
       "</table>\n",
       "</div>"
      ],
      "text/plain": [
       "                             Кандидат х Вакансия           Кандидат  \\\n",
       "0              🟧Гротов: HeyGen: Backend Engineer  Константин Гротов   \n",
       "1  🟪Пономаренко: Discover Beagle: Data Scientist  Артем Пономаренко   \n",
       "2   🔲Алешин: HeyGen: Fullstack Software Engineer      Андрей Алешин   \n",
       "\n",
       "                              Вакансия  \\\n",
       "0             HeyGen: Backend Engineer   \n",
       "1      Discover Beagle: Data Scientist   \n",
       "2  HeyGen: Fullstack Software Engineer   \n",
       "\n",
       "                                                Теги  \\\n",
       "0                            [Python, Data Engineer]   \n",
       "1                     [Data Analyst, Data Scientist]   \n",
       "2  [Fullstack, Frontend: JS / JavaScript, Fronten...   \n",
       "\n",
       "                         Комментарий техконсультанта Оценка (для проекта)  \\\n",
       "0  4 Видно всё из основного списка кроме security...                    4   \n",
       "1   3 вроде делал что-то релевантное, но DS/аналитик                    3   \n",
       "2          3 без cloud platforms и как-то без плюшек                    3   \n",
       "\n",
       "                                  Статус  \\\n",
       "0                         F. Отказали мы   \n",
       "1   GG. Изменились требования в вакансии   \n",
       "2  I.4a. Оценили резюме (не рекомендуем)   \n",
       "\n",
       "                        Финальный статус  \\\n",
       "0                  I.8. Показать клиенту   \n",
       "1  I.4b. Оценили резюме (не рекомендуем)   \n",
       "2  I.4b. Оценили резюме (не рекомендуем)   \n",
       "\n",
       "                                                  CV  \\\n",
       "0  [{'id': 'attPTbDSaBmjmIDxw', 'url': 'https://v...   \n",
       "1  [{'id': 'attMQRddPFX7glO3L', 'url': 'https://v...   \n",
       "2                                                NaN   \n",
       "\n",
       "                 Текст резюме Rollup (from Кандидат)  \\\n",
       "0  KONSTANTIN GROTOV\\nR konstantin.grotov@gmail.c...   \n",
       "1  ARTEM PONOMARENKO\\n# slfdstrctd@yandex.ru ð li...   \n",
       "2  Кандидат\\nМужчина, 53 года, родился 9 декабря ...   \n",
       "\n",
       "          Текст вакансии от компании (from Вакансия)  \n",
       "0  **About HeyGen** HeyGen is a cutting-edge AI-p...  \n",
       "1  About the job We are a seed-funded startup foc...  \n",
       "2  https://boards.greenhouse.io/heygen/jobs/41720...  "
      ]
     },
     "execution_count": 6,
     "metadata": {},
     "output_type": "execute_result"
    }
   ],
   "source": [
    "df.head()"
   ]
  },
  {
   "cell_type": "code",
   "execution_count": 7,
   "metadata": {},
   "outputs": [],
   "source": [
    "candidates = df[[\"Кандидат\", \"Текст резюме Rollup (from Кандидат)\"]].drop_duplicates()"
   ]
  },
  {
   "cell_type": "code",
   "execution_count": 8,
   "metadata": {},
   "outputs": [
    {
     "data": {
      "text/html": [
       "<div>\n",
       "<style scoped>\n",
       "    .dataframe tbody tr th:only-of-type {\n",
       "        vertical-align: middle;\n",
       "    }\n",
       "\n",
       "    .dataframe tbody tr th {\n",
       "        vertical-align: top;\n",
       "    }\n",
       "\n",
       "    .dataframe thead th {\n",
       "        text-align: right;\n",
       "    }\n",
       "</style>\n",
       "<table border=\"1\" class=\"dataframe\">\n",
       "  <thead>\n",
       "    <tr style=\"text-align: right;\">\n",
       "      <th></th>\n",
       "      <th>Кандидат</th>\n",
       "      <th>Текст резюме Rollup (from Кандидат)</th>\n",
       "    </tr>\n",
       "  </thead>\n",
       "  <tbody>\n",
       "    <tr>\n",
       "      <th>0</th>\n",
       "      <td>Константин Гротов</td>\n",
       "      <td>KONSTANTIN GROTOV\\nR konstantin.grotov@gmail.c...</td>\n",
       "    </tr>\n",
       "    <tr>\n",
       "      <th>1</th>\n",
       "      <td>Артем Пономаренко</td>\n",
       "      <td>ARTEM PONOMARENKO\\n# slfdstrctd@yandex.ru ð li...</td>\n",
       "    </tr>\n",
       "    <tr>\n",
       "      <th>2</th>\n",
       "      <td>Андрей Алешин</td>\n",
       "      <td>Кандидат\\nМужчина, 53 года, родился 9 декабря ...</td>\n",
       "    </tr>\n",
       "  </tbody>\n",
       "</table>\n",
       "</div>"
      ],
      "text/plain": [
       "            Кандидат                Текст резюме Rollup (from Кандидат)\n",
       "0  Константин Гротов  KONSTANTIN GROTOV\\nR konstantin.grotov@gmail.c...\n",
       "1  Артем Пономаренко  ARTEM PONOMARENKO\\n# slfdstrctd@yandex.ru ð li...\n",
       "2      Андрей Алешин  Кандидат\\nМужчина, 53 года, родился 9 декабря ..."
      ]
     },
     "execution_count": 8,
     "metadata": {},
     "output_type": "execute_result"
    }
   ],
   "source": [
    "candidates"
   ]
  },
  {
   "cell_type": "code",
   "execution_count": 9,
   "metadata": {},
   "outputs": [],
   "source": [
    "vacancies = df[['Вакансия', 'Текст вакансии от компании (from Вакансия)']]"
   ]
  },
  {
   "cell_type": "code",
   "execution_count": 10,
   "metadata": {},
   "outputs": [
    {
     "data": {
      "text/html": [
       "<div>\n",
       "<style scoped>\n",
       "    .dataframe tbody tr th:only-of-type {\n",
       "        vertical-align: middle;\n",
       "    }\n",
       "\n",
       "    .dataframe tbody tr th {\n",
       "        vertical-align: top;\n",
       "    }\n",
       "\n",
       "    .dataframe thead th {\n",
       "        text-align: right;\n",
       "    }\n",
       "</style>\n",
       "<table border=\"1\" class=\"dataframe\">\n",
       "  <thead>\n",
       "    <tr style=\"text-align: right;\">\n",
       "      <th></th>\n",
       "      <th>Вакансия</th>\n",
       "      <th>Текст вакансии от компании (from Вакансия)</th>\n",
       "    </tr>\n",
       "  </thead>\n",
       "  <tbody>\n",
       "    <tr>\n",
       "      <th>0</th>\n",
       "      <td>HeyGen: Backend Engineer</td>\n",
       "      <td>**About HeyGen** HeyGen is a cutting-edge AI-p...</td>\n",
       "    </tr>\n",
       "    <tr>\n",
       "      <th>1</th>\n",
       "      <td>Discover Beagle: Data Scientist</td>\n",
       "      <td>About the job We are a seed-funded startup foc...</td>\n",
       "    </tr>\n",
       "    <tr>\n",
       "      <th>2</th>\n",
       "      <td>HeyGen: Fullstack Software Engineer</td>\n",
       "      <td>https://boards.greenhouse.io/heygen/jobs/41720...</td>\n",
       "    </tr>\n",
       "  </tbody>\n",
       "</table>\n",
       "</div>"
      ],
      "text/plain": [
       "                              Вакансия  \\\n",
       "0             HeyGen: Backend Engineer   \n",
       "1      Discover Beagle: Data Scientist   \n",
       "2  HeyGen: Fullstack Software Engineer   \n",
       "\n",
       "          Текст вакансии от компании (from Вакансия)  \n",
       "0  **About HeyGen** HeyGen is a cutting-edge AI-p...  \n",
       "1  About the job We are a seed-funded startup foc...  \n",
       "2  https://boards.greenhouse.io/heygen/jobs/41720...  "
      ]
     },
     "execution_count": 10,
     "metadata": {},
     "output_type": "execute_result"
    }
   ],
   "source": [
    "vacancies"
   ]
  },
  {
   "cell_type": "code",
   "execution_count": null,
   "metadata": {},
   "outputs": [],
   "source": []
  }
 ],
 "metadata": {
  "kernelspec": {
   "display_name": "lunapark-H4U3dD4z-py3.12",
   "language": "python",
   "name": "python3"
  },
  "language_info": {
   "codemirror_mode": {
    "name": "ipython",
    "version": 3
   },
   "file_extension": ".py",
   "mimetype": "text/x-python",
   "name": "python",
   "nbconvert_exporter": "python",
   "pygments_lexer": "ipython3",
   "version": "3.12.0"
  }
 },
 "nbformat": 4,
 "nbformat_minor": 2
}
