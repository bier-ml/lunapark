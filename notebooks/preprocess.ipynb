{
 "cells": [
  {
   "cell_type": "code",
   "execution_count": 1,
   "metadata": {},
   "outputs": [],
   "source": [
    "import pandas as pd\n",
    "\n",
    "df = pd.read_csv(\"../data/data_raw.csv\")"
   ]
  },
  {
   "cell_type": "code",
   "execution_count": 2,
   "metadata": {},
   "outputs": [],
   "source": [
    "df.drop([df.columns[0], \"CV\"], axis=1, inplace=True)"
   ]
  },
  {
   "cell_type": "code",
   "execution_count": 3,
   "metadata": {},
   "outputs": [],
   "source": [
    "df.columns = [\n",
    "    \"name\",\n",
    "    \"job_name\",\n",
    "    \"tags\",\n",
    "    \"comment\",\n",
    "    \"grade\",\n",
    "    \"status\",\n",
    "    \"final_status\",\n",
    "    \"cv\",\n",
    "    \"linkedin\",\n",
    "    \"job_desc\",\n",
    "]"
   ]
  },
  {
   "cell_type": "code",
   "execution_count": 84,
   "metadata": {},
   "outputs": [],
   "source": [
    "import pandas as pd\n",
    "\n",
    "df_final = pd.read_csv(\"../data/data_final.csv\")"
   ]
  },
  {
   "cell_type": "code",
   "execution_count": 85,
   "metadata": {},
   "outputs": [],
   "source": [
    "df = df_final"
   ]
  },
  {
   "cell_type": "code",
   "execution_count": 86,
   "metadata": {},
   "outputs": [],
   "source": [
    "df.drop(\n",
    "    [\n",
    "        \"final_status_1\",\n",
    "        \"final_status_2\",\n",
    "        \"final_status_3\",\n",
    "        \"status_1\",\n",
    "        \"status_2\",\n",
    "        \"status_3\",\n",
    "    ],\n",
    "    axis=1,\n",
    "    inplace=True,\n",
    ")"
   ]
  },
  {
   "cell_type": "code",
   "execution_count": 87,
   "metadata": {},
   "outputs": [],
   "source": [
    "df_split = df[\"final_status\"].str.split(\".\", expand=True)\n",
    "\n",
    "df_split.columns = [\"final_status_1\", \"final_status_2\", \"final_status_3\"]\n",
    "\n",
    "df = pd.concat([df, df_split], axis=1)\n",
    "df[\"final_status_1\"] = df[\"final_status_1\"].fillna(\"\")\n",
    "df[\"final_status_2\"] = df[\"final_status_2\"].fillna(\"\")\n",
    "df[\"final_status_3\"] = df[\"final_status_3\"].fillna(\"\")"
   ]
  },
  {
   "cell_type": "code",
   "execution_count": 88,
   "metadata": {},
   "outputs": [],
   "source": [
    "df_split = df[\"status\"].str.split(\".\", expand=True)\n",
    "\n",
    "df_split.columns = [\"status_1\", \"status_2\", \"status_3\"]\n",
    "\n",
    "df = pd.concat([df, df_split], axis=1)\n",
    "\n",
    "df[\"status_1\"] = df[\"status_1\"].fillna(\"\")\n",
    "df[\"status_2\"] = df[\"status_2\"].fillna(\"\")\n",
    "df[\"status_3\"] = df[\"status_3\"].fillna(\"\")"
   ]
  },
  {
   "cell_type": "code",
   "execution_count": null,
   "metadata": {},
   "outputs": [],
   "source": [
    "df.isna().sum()"
   ]
  },
  {
   "cell_type": "code",
   "execution_count": 90,
   "metadata": {},
   "outputs": [],
   "source": [
    "def compute_overall_final_status(row):\n",
    "    # Check if 'не рекомендуем' exists in the string value of 'final_status_3'\n",
    "    if (\n",
    "        isinstance(row[\"final_status_3\"], str)\n",
    "        and \"не рекомендуем\" in row[\"final_status_3\"]\n",
    "    ):\n",
    "        return 0\n",
    "    elif row[\"final_status_2\"] == \"5a\":\n",
    "        return 0\n",
    "    elif row[\"final_status_1\"] == \"I\" and row[\"final_status_2\"] in [\"1\", \"2\", \"3\"]:\n",
    "        return -1\n",
    "    else:\n",
    "        return 1\n",
    "\n",
    "\n",
    "# Ensure that the DataFrame is not empty before applying the function\n",
    "if not df.empty:\n",
    "    df[\"overall_final_status\"] = df.apply(compute_overall_final_status, axis=1)"
   ]
  },
  {
   "cell_type": "code",
   "execution_count": 91,
   "metadata": {},
   "outputs": [],
   "source": [
    "def compute_overall_status(row):\n",
    "    if (\n",
    "        (isinstance(row[\"status_3\"], str) and \"не рекомендуем\" in row[\"status_3\"])\n",
    "        or row[\"status_2\"] == \"5a\"\n",
    "        or row[\"status_1\"] == \"F\"\n",
    "    ):\n",
    "        return 0\n",
    "    elif (row[\"status_1\"] == \"I\" and row[\"status_2\"] in ([\"1\", \"2\", \"3\"])) or row[\n",
    "        \"status_1\"\n",
    "    ] == \"GG\":\n",
    "        return -1\n",
    "    else:\n",
    "        return 1\n",
    "\n",
    "\n",
    "df[\"overall_status\"] = df.apply(compute_overall_status, axis=1)"
   ]
  },
  {
   "cell_type": "code",
   "execution_count": null,
   "metadata": {},
   "outputs": [],
   "source": [
    "df.columns"
   ]
  },
  {
   "cell_type": "code",
   "execution_count": null,
   "metadata": {},
   "outputs": [],
   "source": [
    "df.groupby(\n",
    "    [\"final_status_1\", \"final_status_2\", \"final_status_3\", \"overall_final_status\"]\n",
    ").count().reset_index()"
   ]
  },
  {
   "cell_type": "code",
   "execution_count": 7,
   "metadata": {},
   "outputs": [],
   "source": [
    "def convert_grade(grade):\n",
    "    if isinstance(grade, str) and \"/\" in grade:\n",
    "        numerator, denominator = map(int, grade.split(\"/\"))\n",
    "        return (numerator + denominator) / 2\n",
    "    elif pd.notna(grade):\n",
    "        return float(grade)\n",
    "    else:\n",
    "        return grade\n",
    "\n",
    "\n",
    "df[\"grade\"] = df[\"grade\"].apply(convert_grade)"
   ]
  },
  {
   "cell_type": "code",
   "execution_count": null,
   "metadata": {},
   "outputs": [],
   "source": [
    "df.groupby(\"grade\").count().reset_index()"
   ]
  },
  {
   "cell_type": "code",
   "execution_count": null,
   "metadata": {},
   "outputs": [],
   "source": [
    "df.isna().sum()"
   ]
  },
  {
   "cell_type": "code",
   "execution_count": null,
   "metadata": {},
   "outputs": [],
   "source": [
    "df[df[\"cv\"].isna() & df[\"linkedin\"].isna()]"
   ]
  },
  {
   "cell_type": "code",
   "execution_count": null,
   "metadata": {},
   "outputs": [],
   "source": [
    "df[df[\"cv\"].isna()]"
   ]
  },
  {
   "cell_type": "code",
   "execution_count": null,
   "metadata": {},
   "outputs": [],
   "source": [
    "import time\n",
    "\n",
    "import pandas as pd\n",
    "from linkedin_scraper import Person, actions\n",
    "from selenium import webdriver\n",
    "from selenium.webdriver.chrome.service import Service\n",
    "from tqdm import tqdm\n",
    "from webdriver_manager.chrome import ChromeDriverManager\n",
    "\n",
    "options = webdriver.ChromeOptions()\n",
    "options.add_argument(\"--headless\")  # Run browser in headless mode\n",
    "driver = webdriver.Chrome(\n",
    "    service=Service(ChromeDriverManager().install()), options=options\n",
    ")\n",
    "\n",
    "linkedin_email = \"\"\n",
    "linkedin_password = \"\"\n",
    "actions.login(driver, linkedin_email, linkedin_password)\n",
    "\n",
    "\n",
    "def get_text_resume(url):\n",
    "    try:\n",
    "        person = Person(url, driver=driver)\n",
    "        time.sleep(3)  # Wait for the page to load\n",
    "        return str(person) or None\n",
    "    except Exception as e:\n",
    "        return f\"Error: {e}\"\n",
    "\n",
    "\n",
    "def fill_cv(row):\n",
    "    if pd.notna(row[\"linkedin\"]) and (pd.isna(row[\"cv\"]) or row[\"cv\"] == \"\"):\n",
    "        return get_text_resume(row[\"linkedin\"])\n",
    "    return row[\"cv\"]\n",
    "\n",
    "\n",
    "tqdm.pandas()\n",
    "\n",
    "df[\"cv\"] = df.progress_apply(fill_cv, axis=1)\n",
    "\n",
    "\n",
    "driver.quit()"
   ]
  },
  {
   "cell_type": "code",
   "execution_count": null,
   "metadata": {},
   "outputs": [],
   "source": [
    "df.isna().sum()"
   ]
  },
  {
   "cell_type": "code",
   "execution_count": 96,
   "metadata": {},
   "outputs": [],
   "source": [
    "df.to_csv(\"../data/data_final.csv\", index=False)"
   ]
  },
  {
   "cell_type": "code",
   "execution_count": null,
   "metadata": {},
   "outputs": [],
   "source": []
  }
 ],
 "metadata": {
  "kernelspec": {
   "display_name": "lunapark-H4U3dD4z-py3.12",
   "language": "python",
   "name": "python3"
  },
  "language_info": {
   "codemirror_mode": {
    "name": "ipython",
    "version": 3
   },
   "file_extension": ".py",
   "mimetype": "text/x-python",
   "name": "python",
   "nbconvert_exporter": "python",
   "pygments_lexer": "ipython3",
   "version": "3.12.1"
  }
 },
 "nbformat": 4,
 "nbformat_minor": 2
}
