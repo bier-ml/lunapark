{
 "cells": [
  {
   "cell_type": "code",
   "execution_count": null,
   "id": "e8c65ee3",
   "metadata": {},
   "outputs": [],
   "source": [
    "import requests\n",
    "import os\n",
    "\n",
    "class AirtableClient:\n",
    "    def __init__(self, api_key, base_id, table_id):\n",
    "        self.api_key = api_key\n",
    "        self.base_id = base_id\n",
    "        self.table_id = table_id\n",
    "        self.base_url = f\"https://api.airtable.com/v0/{self.base_id}/{self.table_id}\"\n",
    "        self.headers = {\n",
    "            \"Authorization\": f\"Bearer {self.api_key}\",\n",
    "            \"Content-Type\": \"application/json\"\n",
    "        }\n",
    "\n",
    "    def get_records(self, params=None):\n",
    "        \"\"\"Fetch records from the Airtable table.\"\"\"\n",
    "        response = requests.get(self.base_url, headers=self.headers, params=params)\n",
    "        response.raise_for_status()\n",
    "        return response.json()\n",
    "\n",
    "    def update_record(self, record_id, fields):\n",
    "        \"\"\"\n",
    "        Update a record in the Airtable table.\n",
    "\n",
    "        :param record_id: The ID of the record to update.\n",
    "        :param fields: A dictionary of fields to update.\n",
    "        \"\"\"\n",
    "        url = f\"{self.base_url}/{record_id}\"\n",
    "        data = {\"fields\": fields}\n",
    "        response = requests.patch(url, headers=self.headers, json=data)\n",
    "        response.raise_for_status()\n",
    "        return response.json()\n"
   ]
  },
  {
   "cell_type": "code",
   "execution_count": 18,
   "id": "e5026442",
   "metadata": {},
   "outputs": [
    {
     "name": "stdout",
     "output_type": "stream",
     "text": [
      "{'records': [{'id': 'recDG3FwSxuvUL0jY', 'createdTime': '2025-05-16T17:13:10.000Z', 'fields': {'cv': 'CV2', 'id': '2'}}, {'id': 'recWbckkLWfNa3bSi', 'createdTime': '2025-05-16T17:13:10.000Z', 'fields': {'cv': 'CV3', 'id': '3'}}, {'id': 'reciWqAeAemmGwLfd', 'createdTime': '2025-05-16T17:13:10.000Z', 'fields': {'cv': 'CV1', 'id': '1'}}]}\n"
     ]
    }
   ],
   "source": [
    "# Initialize\n",
    "client = AirtableClient(api_key=os.getenv(\"AIRTABLE_API_KEY\"), base_id=\"appPa8VJ4IHfm1V5O\", table_id=\"tblF1QERP6FFNMnM1\")\n",
    "\n",
    "# Get records\n",
    "records = client.get_records()\n",
    "print(records)\n"
   ]
  },
  {
   "cell_type": "code",
   "execution_count": 19,
   "id": "65a2153a",
   "metadata": {},
   "outputs": [
    {
     "name": "stdout",
     "output_type": "stream",
     "text": [
      "{'id': 'recDG3FwSxuvUL0jY', 'createdTime': '2025-05-16T17:13:10.000Z', 'fields': {'cv': 'Updated cv', 'id': '2'}}\n"
     ]
    }
   ],
   "source": [
    "# Update a record\n",
    "updated = client.update_record(\"recDG3FwSxuvUL0jY\", {\"cv\": \"Updated cv\"})\n",
    "print(updated)"
   ]
  },
  {
   "cell_type": "code",
   "execution_count": 22,
   "id": "4c58cf9a",
   "metadata": {},
   "outputs": [],
   "source": [
    "class CVManager:\n",
    "    def __init__(self, airtable_client):\n",
    "        self.client = airtable_client\n",
    "\n",
    "    def retrieve_all_cvs(self):\n",
    "        \"\"\"\n",
    "        Retrieve all CV records and return a dict:\n",
    "        { record_id: (cv, summarized_cv) }\n",
    "        \"\"\"\n",
    "        records = self.client.get_records()\n",
    "        result = {}\n",
    "        for record in records.get(\"records\", []):\n",
    "            record_id = record[\"id\"]\n",
    "            fields = record.get(\"fields\", {})\n",
    "            cv = fields.get(\"cv\", \"\")\n",
    "            summarized_cv = fields.get(\"summarized_cv\", \"\")\n",
    "            result[record_id] = (cv, summarized_cv)\n",
    "        return result\n",
    "\n",
    "    def find_unsummarized_cv(self, target_cv):\n",
    "        \"\"\"\n",
    "        Find a record where the cv matches and summarized_cv is empty.\n",
    "        Returns (record_id, cv) or None if not found.\n",
    "        \"\"\"\n",
    "        cvs = self.retrieve_all_cvs()\n",
    "        for record_id, (cv, summarized) in cvs.items():\n",
    "            if cv == target_cv and not summarized:\n",
    "                return record_id, cv\n",
    "        return None\n",
    "\n",
    "    def update_summarized_cv(self, record_id, new_summary):\n",
    "        \"\"\"\n",
    "        Update a specific record with a new summarized_cv.\n",
    "        \"\"\"\n",
    "        return self.client.update_record(record_id, {\"summarized_cv\": new_summary})\n"
   ]
  },
  {
   "cell_type": "code",
   "execution_count": 24,
   "id": "66c9ff1e",
   "metadata": {},
   "outputs": [
    {
     "name": "stdout",
     "output_type": "stream",
     "text": [
      "Updated: {'id': 'recDG3FwSxuvUL0jY', 'createdTime': '2025-05-16T17:13:10.000Z', 'fields': {'cv': 'Jane Doe Resume Content Here', 'summarized_cv': 'Jane Doe is a project manager with 8 years of experience in logistics and retail tech.'}}\n"
     ]
    }
   ],
   "source": [
    "cv_manager = CVManager(client)\n",
    "\n",
    "# Find and update a CV\n",
    "result = cv_manager.find_unsummarized_cv(\"Jane Doe Resume Content Here\")\n",
    "if result:\n",
    "    record_id, cv_text = result\n",
    "    summary = \"Jane Doe is a project manager with 8 years of experience in logistics and retail tech.\"\n",
    "    updated = cv_manager.update_summarized_cv(record_id, summary)\n",
    "    print(\"Updated:\", updated)\n",
    "else:\n",
    "    print(\"No matching unsummarized CV found.\")"
   ]
  },
  {
   "cell_type": "code",
   "execution_count": 26,
   "id": "ec61753d",
   "metadata": {},
   "outputs": [],
   "source": [
    "class VacancyManager:\n",
    "    def __init__(self, airtable_client):\n",
    "        self.client = airtable_client\n",
    "\n",
    "    def retrieve_all_vacancies(self):\n",
    "        \"\"\"\n",
    "        Retrieve all vacancy records and return a dict:\n",
    "        { record_id: (vacancy, summarized_vacancy) }\n",
    "        \"\"\"\n",
    "        records = self.client.get_records()\n",
    "        result = {}\n",
    "        for record in records.get(\"records\", []):\n",
    "            record_id = record[\"id\"]\n",
    "            fields = record.get(\"fields\", {})\n",
    "            vacancy = fields.get(\"vacancy\", \"\")\n",
    "            summarized_vacancy = fields.get(\"summarized_vacancy\", \"\")\n",
    "            result[record_id] = (vacancy, summarized_vacancy)\n",
    "        return result\n",
    "\n",
    "    def find_unsummarized_vacancy(self, target_vacancy):\n",
    "        \"\"\"\n",
    "        Find a record where the vacancy matches and summarized_vacancy is empty.\n",
    "        Returns (record_id, vacancy) or None if not found.\n",
    "        \"\"\"\n",
    "        vacancies = self.retrieve_all_vacancies()\n",
    "        for record_id, (vacancy, summarized) in vacancies.items():\n",
    "            if vacancy == target_vacancy and not summarized:\n",
    "                return record_id, vacancy\n",
    "        return None\n",
    "\n",
    "    def update_summarized_vacancy(self, record_id, new_summary):\n",
    "        \"\"\"\n",
    "        Update a specific record with a new summarized_vacancy.\n",
    "        \"\"\"\n",
    "        return self.client.update_record(record_id, {\"summarized_vacancy\": new_summary})\n"
   ]
  },
  {
   "cell_type": "code",
   "execution_count": 31,
   "id": "277987fd",
   "metadata": {},
   "outputs": [
    {
     "name": "stdout",
     "output_type": "stream",
     "text": [
      "Updated: {'id': 'recSQzHNjR0SVCja8', 'createdTime': '2025-05-16T17:13:10.000Z', 'fields': {'vacancy': 'We are hiring a backend Python developer with 3+ years of experience...', 'summarized_vacancy': 'Looking for a backend Python developer with 3+ years experience.'}}\n"
     ]
    }
   ],
   "source": [
    "vacancy_client = AirtableClient(api_key=os.getenv(\"AIRTABLE_API_KEY\"), base_id=\"appPa8VJ4IHfm1V5O\", table_id=\"tblfVZLqyJjb2SVHW\")\n",
    "vacancy_manager = VacancyManager(vacancy_client)\n",
    "\n",
    "# Find and update a vacancy\n",
    "result = vacancy_manager.find_unsummarized_vacancy(\"We are hiring a backend Python developer with 3+ years of experience...\")\n",
    "if result:\n",
    "    record_id, vacancy_text = result\n",
    "    summary = \"Looking for a backend Python developer with 3+ years experience.\"\n",
    "    updated = vacancy_manager.update_summarized_vacancy(record_id, summary)\n",
    "    print(\"Updated:\", updated)\n",
    "else:\n",
    "    print(\"No matching unsummarized vacancy found.\")"
   ]
  }
 ],
 "metadata": {
  "kernelspec": {
   "display_name": ".venv",
   "language": "python",
   "name": "python3"
  },
  "language_info": {
   "codemirror_mode": {
    "name": "ipython",
    "version": 3
   },
   "file_extension": ".py",
   "mimetype": "text/x-python",
   "name": "python",
   "nbconvert_exporter": "python",
   "pygments_lexer": "ipython3",
   "version": "3.12.9"
  }
 },
 "nbformat": 4,
 "nbformat_minor": 5
}
