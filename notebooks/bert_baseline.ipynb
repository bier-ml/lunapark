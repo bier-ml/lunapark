{
 "cells": [
  {
   "cell_type": "code",
   "execution_count": 3,
   "metadata": {},
   "outputs": [],
   "source": [
    "import re\n",
    "\n",
    "import pandas as pd\n",
    "import seaborn as sns\n",
    "import torch\n",
    "from sklearn.metrics import mean_absolute_error, mean_squared_error\n",
    "from sklearn.model_selection import train_test_split\n",
    "from torch import nn\n",
    "from torch.optim import AdamW\n",
    "from torch.utils.data import DataLoader, Dataset\n",
    "from tqdm import tqdm\n",
    "from transformers import BertModel, BertTokenizer\n",
    "\n",
    "sns.set_theme()"
   ]
  },
  {
   "cell_type": "code",
   "execution_count": 4,
   "metadata": {},
   "outputs": [],
   "source": [
    "df = pd.read_csv(\"../data/data_final.csv\")\n",
    "df = df.dropna(subset=[\"grade\", \"cv\", \"job_desc\"])"
   ]
  },
  {
   "cell_type": "code",
   "execution_count": 5,
   "metadata": {},
   "outputs": [
    {
     "data": {
      "text/plain": [
       "grade\n",
       "3.5    287\n",
       "4.0    184\n",
       "3.0    166\n",
       "2.0     38\n",
       "4.5     26\n",
       "5.0     14\n",
       "1.0     10\n",
       "Name: count, dtype: int64"
      ]
     },
     "execution_count": 5,
     "metadata": {},
     "output_type": "execute_result"
    }
   ],
   "source": [
    "df[\"grade\"] = df[\"grade\"].clip(lower=1, upper=5)\n",
    "df[\"grade\"] = df[\"grade\"].replace(2.5, 2.0)\n",
    "\n",
    "df.grade.value_counts()"
   ]
  },
  {
   "cell_type": "code",
   "execution_count": 6,
   "metadata": {},
   "outputs": [
    {
     "name": "stdout",
     "output_type": "stream",
     "text": [
      "Размер тренировочной выборки: (580, 19)\n",
      "Размер тестовой выборки: (145, 19)\n"
     ]
    }
   ],
   "source": [
    "train, test = train_test_split(df, test_size=0.2, random_state=42, stratify=df[\"grade\"])\n",
    "\n",
    "train, test = train.reset_index(), test.reset_index()\n",
    "\n",
    "print(f\"Размер тренировочной выборки: {train.shape}\")\n",
    "print(f\"Размер тестовой выборки: {test.shape}\")"
   ]
  },
  {
   "cell_type": "code",
   "execution_count": 7,
   "metadata": {},
   "outputs": [
    {
     "data": {
      "image/png": "[encoded data removed]",
      "text/plain": [
       "<Figure size 1000x500 with 2 Axes>"
      ]
     },
     "metadata": {},
     "output_type": "display_data"
    }
   ],
   "source": [
    "df[\"resume_word_count\"] = df[\"cv\"].apply(lambda x: len(str(x).split()))\n",
    "df[\"job_desc_word_count\"] = df[\"job_desc\"].apply(lambda x: len(str(x).split()))\n",
    "\n",
    "df[[\"resume_word_count\", \"job_desc_word_count\"]].hist(bins=20, figsize=(10, 5));"
   ]
  },
  {
   "cell_type": "code",
   "execution_count": 8,
   "metadata": {},
   "outputs": [
    {
     "name": "stdout",
     "output_type": "stream",
     "text": [
      "2771 1254\n"
     ]
    }
   ],
   "source": [
    "print(df[\"resume_word_count\"].max(), df[\"job_desc_word_count\"].max())"
   ]
  },
  {
   "cell_type": "code",
   "execution_count": 10,
   "metadata": {},
   "outputs": [],
   "source": [
    "class SeparateTextDataset(Dataset):\n",
    "    def __init__(self, data, tokenizer, transform=None):\n",
    "        self.cv_texts = data[\"cv\"]\n",
    "        self.jd_texts = data[\"job_desc\"]\n",
    "        self.grades = data[\"grade\"]\n",
    "        self.tokenizer = tokenizer\n",
    "\n",
    "        # по-хорошему добавить предобработку\n",
    "        # как минимум в виде чистки регулярками\n",
    "        self.transform = transform\n",
    "\n",
    "    def __len__(self):\n",
    "        return len(self.grades)\n",
    "\n",
    "    def __getitem__(self, idx):\n",
    "        cv_encoded = self.tokenizer(\n",
    "            self.cv_texts[idx],\n",
    "            max_length=512,\n",
    "            truncation=True,\n",
    "            padding=\"max_length\",\n",
    "            return_tensors=\"pt\",\n",
    "        )\n",
    "\n",
    "        jd_encoded = self.tokenizer(\n",
    "            self.jd_texts[idx],\n",
    "            max_length=512,\n",
    "            truncation=True,\n",
    "            padding=\"max_length\",\n",
    "            return_tensors=\"pt\",\n",
    "        )\n",
    "\n",
    "        cv_input_ids = cv_encoded[\"input_ids\"].squeeze(0)\n",
    "        cv_attention_mask = cv_encoded[\"attention_mask\"].squeeze(0)\n",
    "\n",
    "        jd_input_ids = jd_encoded[\"input_ids\"].squeeze(0)\n",
    "        jd_attention_mask = jd_encoded[\"attention_mask\"].squeeze(0)\n",
    "\n",
    "        grade = torch.tensor(self.grades[idx], dtype=torch.float)\n",
    "\n",
    "        return cv_input_ids, cv_attention_mask, jd_input_ids, jd_attention_mask, grade"
   ]
  },
  {
   "cell_type": "code",
   "execution_count": 11,
   "metadata": {},
   "outputs": [],
   "source": [
    "class BERTSeparateEmbeddings(nn.Module):\n",
    "    def __init__(\n",
    "        self,\n",
    "        pretrained_model_name=\"bert-base-uncased\",\n",
    "        froze_bert=True,\n",
    "        num_labels=1,\n",
    "        dropout=0.1,\n",
    "    ):\n",
    "        super(BERTSeparateEmbeddings, self).__init__()\n",
    "        self.bert = BertModel.from_pretrained(pretrained_model_name)\n",
    "\n",
    "        if froze_bert:\n",
    "            for param in self.bert.parameters():\n",
    "                param.requires_grad = False\n",
    "\n",
    "        hidden_size = self.bert.config.hidden_size\n",
    "\n",
    "        self.classifier = nn.Sequential(\n",
    "            nn.Linear(hidden_size * 2, 256),\n",
    "            nn.ReLU(),\n",
    "            nn.Dropout(dropout),\n",
    "            nn.Linear(256, num_labels),\n",
    "        )\n",
    "\n",
    "    def forward(self, cv_input_ids, cv_attention_mask, jd_input_ids, jd_attention_mask):\n",
    "        # Получаем эмбеддинги для CV\n",
    "        cv_outputs = self.bert(input_ids=cv_input_ids, attention_mask=cv_attention_mask)\n",
    "        cv_cls_output = cv_outputs.pooler_output  # [CLS] токен для CV\n",
    "\n",
    "        # Получаем эмбеддинги для Job Description\n",
    "        jd_outputs = self.bert(input_ids=jd_input_ids, attention_mask=jd_attention_mask)\n",
    "        jd_cls_output = jd_outputs.pooler_output  # [CLS] токен для Job Description\n",
    "\n",
    "        combined_output = torch.cat((cv_cls_output, jd_cls_output), dim=1)\n",
    "\n",
    "        logits = self.classifier(combined_output)\n",
    "        return logits"
   ]
  },
  {
   "cell_type": "code",
   "execution_count": 12,
   "metadata": {},
   "outputs": [],
   "source": [
    "HF_MODEL_NAME = \"bert-base-uncased\"\n",
    "\n",
    "tokenizer = BertTokenizer.from_pretrained(HF_MODEL_NAME)\n",
    "\n",
    "train_dataset = SeparateTextDataset(train, tokenizer)\n",
    "train_loader = DataLoader(train_dataset, batch_size=16, shuffle=True)\n",
    "\n",
    "test_dataset = SeparateTextDataset(test, tokenizer)\n",
    "test_loader = DataLoader(test_dataset, batch_size=16, shuffle=False)"
   ]
  },
  {
   "cell_type": "code",
   "execution_count": 13,
   "metadata": {},
   "outputs": [
    {
     "name": "stdout",
     "output_type": "stream",
     "text": [
      "cuda\n"
     ]
    }
   ],
   "source": [
    "device = torch.device(\"cuda\" if torch.cuda.is_available() else \"cpu\")\n",
    "print(device)\n",
    "\n",
    "model = BERTSeparateEmbeddings(\n",
    "    pretrained_model_name=HF_MODEL_NAME,\n",
    "    num_labels=1,\n",
    ").to(device)"
   ]
  },
  {
   "cell_type": "code",
   "execution_count": 14,
   "metadata": {},
   "outputs": [
    {
     "name": "stderr",
     "output_type": "stream",
     "text": [
      " 20%|██        | 1/5 [00:28<01:55, 28.82s/it]"
     ]
    },
    {
     "name": "stdout",
     "output_type": "stream",
     "text": [
      "Epoch 1, Loss: 6.725237343762372\n"
     ]
    },
    {
     "name": "stderr",
     "output_type": "stream",
     "text": [
      " 40%|████      | 2/5 [01:01<01:32, 30.84s/it]"
     ]
    },
    {
     "name": "stdout",
     "output_type": "stream",
     "text": [
      "Epoch 2, Loss: 1.2042538620330192\n"
     ]
    },
    {
     "name": "stderr",
     "output_type": "stream",
     "text": [
      " 60%|██████    | 3/5 [01:31<01:01, 30.68s/it]"
     ]
    },
    {
     "name": "stdout",
     "output_type": "stream",
     "text": [
      "Epoch 3, Loss: 0.5793579700025352\n"
     ]
    },
    {
     "name": "stderr",
     "output_type": "stream",
     "text": [
      " 80%|████████  | 4/5 [02:02<00:30, 30.64s/it]"
     ]
    },
    {
     "name": "stdout",
     "output_type": "stream",
     "text": [
      "Epoch 4, Loss: 0.5586438283726975\n"
     ]
    },
    {
     "name": "stderr",
     "output_type": "stream",
     "text": [
      "100%|██████████| 5/5 [02:32<00:00, 30.56s/it]"
     ]
    },
    {
     "name": "stdout",
     "output_type": "stream",
     "text": [
      "Epoch 5, Loss: 0.5420744455343968\n"
     ]
    },
    {
     "name": "stderr",
     "output_type": "stream",
     "text": [
      "\n"
     ]
    }
   ],
   "source": [
    "EPOCHS = 5\n",
    "BATCH_SIZE = 32\n",
    "LEARNING_RATE = 2e-5\n",
    "\n",
    "optimizer = AdamW(model.parameters(), lr=LEARNING_RATE)\n",
    "\n",
    "criterion = nn.MSELoss()\n",
    "\n",
    "for epoch in tqdm(range(EPOCHS)):\n",
    "    model.train()\n",
    "    total_loss = 0\n",
    "    for batch in train_loader:\n",
    "        cv_input_ids, cv_attention_mask, jd_input_ids, jd_attention_mask, labels = [\n",
    "            b.to(device) for b in batch\n",
    "        ]\n",
    "\n",
    "        optimizer.zero_grad()\n",
    "        logits = model(\n",
    "            cv_input_ids, cv_attention_mask, jd_input_ids, jd_attention_mask\n",
    "        ).squeeze(-1)\n",
    "        loss = criterion(logits, labels)\n",
    "        loss.backward()\n",
    "        optimizer.step()\n",
    "\n",
    "        total_loss += loss.item()\n",
    "\n",
    "    avg_loss = total_loss / len(train_loader)\n",
    "    print(f\"Epoch {epoch+1}, Loss: {avg_loss}\")"
   ]
  },
  {
   "cell_type": "code",
   "execution_count": 15,
   "metadata": {},
   "outputs": [],
   "source": [
    "def print_metrics(model, test_loader):\n",
    "    model.eval()\n",
    "\n",
    "    all_predictions = []\n",
    "    all_targets = []\n",
    "\n",
    "    with torch.no_grad():\n",
    "        for batch in test_loader:\n",
    "            cv_input_ids, cv_attention_mask, jd_input_ids, jd_attention_mask, labels = [\n",
    "                b.to(device) for b in batch\n",
    "            ]\n",
    "\n",
    "            predictions = model(\n",
    "                cv_input_ids, cv_attention_mask, jd_input_ids, jd_attention_mask\n",
    "            ).squeeze(-1)\n",
    "\n",
    "            all_predictions.extend(predictions.cpu().numpy())\n",
    "            all_targets.extend(labels.cpu().numpy())\n",
    "\n",
    "    mae = mean_absolute_error(all_targets, all_predictions)\n",
    "    mse = mean_squared_error(all_targets, all_predictions)\n",
    "\n",
    "    print(f\"MAE: {mae:.4f}\")\n",
    "    print(f\"MSE: {mse:.4f}\")"
   ]
  },
  {
   "cell_type": "code",
   "execution_count": 16,
   "metadata": {},
   "outputs": [
    {
     "name": "stdout",
     "output_type": "stream",
     "text": [
      "MAE: 0.5411\n",
      "MSE: 0.5689\n"
     ]
    }
   ],
   "source": [
    "print_metrics(model, test_loader)"
   ]
  },
  {
   "cell_type": "code",
   "execution_count": 13,
   "metadata": {},
   "outputs": [
    {
     "name": "stderr",
     "output_type": "stream",
     "text": [
      " 20%|██        | 1/5 [13:20<53:22, 800.75s/it]"
     ]
    },
    {
     "name": "stdout",
     "output_type": "stream",
     "text": [
      "Epoch 1, Loss: 3.148404193891061\n"
     ]
    },
    {
     "name": "stderr",
     "output_type": "stream",
     "text": [
      " 40%|████      | 2/5 [26:44<40:07, 802.38s/it]"
     ]
    },
    {
     "name": "stdout",
     "output_type": "stream",
     "text": [
      "Epoch 2, Loss: 0.43443206214421504\n"
     ]
    },
    {
     "name": "stderr",
     "output_type": "stream",
     "text": [
      " 60%|██████    | 3/5 [39:04<25:47, 773.95s/it]"
     ]
    },
    {
     "name": "stdout",
     "output_type": "stream",
     "text": [
      "Epoch 3, Loss: 0.4218942474674534\n"
     ]
    },
    {
     "name": "stderr",
     "output_type": "stream",
     "text": [
      " 80%|████████  | 4/5 [51:26<12:41, 761.41s/it]"
     ]
    },
    {
     "name": "stdout",
     "output_type": "stream",
     "text": [
      "Epoch 4, Loss: 0.41048130876309163\n"
     ]
    },
    {
     "name": "stderr",
     "output_type": "stream",
     "text": [
      "100%|██████████| 5/5 [1:02:02<00:00, 744.46s/it]"
     ]
    },
    {
     "name": "stdout",
     "output_type": "stream",
     "text": [
      "Epoch 5, Loss: 0.3883714000316891\n"
     ]
    },
    {
     "name": "stderr",
     "output_type": "stream",
     "text": [
      "\n"
     ]
    }
   ],
   "source": [
    "device = torch.device(\"cuda\" if torch.cuda.is_available() else \"cpu\")\n",
    "\n",
    "model = BERTSeparateEmbeddings(\n",
    "    pretrained_model_name=HF_MODEL_NAME, num_labels=1, froze_bert=False\n",
    ").to(device)\n",
    "\n",
    "EPOCHS = 5\n",
    "BATCH_SIZE = 16\n",
    "LEARNING_RATE = 2e-5\n",
    "\n",
    "optimizer = AdamW(model.parameters(), lr=LEARNING_RATE)\n",
    "\n",
    "criterion = nn.MSELoss()\n",
    "\n",
    "for epoch in tqdm(range(EPOCHS)):\n",
    "    model.train()\n",
    "    total_loss = 0\n",
    "    for batch in train_loader:\n",
    "        cv_input_ids, cv_attention_mask, jd_input_ids, jd_attention_mask, labels = [\n",
    "            b.to(device) for b in batch\n",
    "        ]\n",
    "\n",
    "        optimizer.zero_grad()\n",
    "        logits = model(\n",
    "            cv_input_ids, cv_attention_mask, jd_input_ids, jd_attention_mask\n",
    "        ).squeeze(-1)\n",
    "        loss = criterion(logits, labels)\n",
    "        loss.backward()\n",
    "        optimizer.step()\n",
    "\n",
    "        total_loss += loss.item()\n",
    "\n",
    "    avg_loss = total_loss / len(train_loader)\n",
    "    print(f\"Epoch {epoch+1}, Loss: {avg_loss}\")"
   ]
  },
  {
   "cell_type": "code",
   "execution_count": 16,
   "metadata": {},
   "outputs": [
    {
     "name": "stdout",
     "output_type": "stream",
     "text": [
      "MAE: 0.4525\n",
      "MSE: 0.4310\n"
     ]
    }
   ],
   "source": [
    "print_metrics(model, test_loader)"
   ]
  }
 ],
 "metadata": {
  "kernelspec": {
   "display_name": ".venv",
   "language": "python",
   "name": "python3"
  },
  "language_info": {
   "codemirror_mode": {
    "name": "ipython",
    "version": 3
   },
   "file_extension": ".py",
   "mimetype": "text/x-python",
   "name": "python",
   "nbconvert_exporter": "python",
   "pygments_lexer": "ipython3",
   "version": "3.12.4"
  }
 },
 "nbformat": 4,
 "nbformat_minor": 2
}
